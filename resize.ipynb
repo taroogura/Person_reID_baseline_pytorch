{
 "cells": [
  {
   "cell_type": "markdown",
   "metadata": {},
   "source": [
    "## pad and resize image"
   ]
  },
  {
   "cell_type": "code",
   "execution_count": 1,
   "metadata": {},
   "outputs": [
    {
     "ename": "ModuleNotFoundError",
     "evalue": "No module named 'cv2'",
     "output_type": "error",
     "traceback": [
      "\u001b[0;31m---------------------------------------------------------------------------\u001b[0m",
      "\u001b[0;31mModuleNotFoundError\u001b[0m                       Traceback (most recent call last)",
      "\u001b[0;32m<ipython-input-1-5a197e7bf01b>\u001b[0m in \u001b[0;36m<module>\u001b[0;34m\u001b[0m\n\u001b[1;32m      1\u001b[0m \u001b[0;32mimport\u001b[0m \u001b[0mos\u001b[0m\u001b[0;34m\u001b[0m\u001b[0;34m\u001b[0m\u001b[0m\n\u001b[0;32m----> 2\u001b[0;31m \u001b[0;32mimport\u001b[0m \u001b[0mcv2\u001b[0m\u001b[0;34m\u001b[0m\u001b[0;34m\u001b[0m\u001b[0m\n\u001b[0m\u001b[1;32m      3\u001b[0m \u001b[0;32mfrom\u001b[0m \u001b[0mglob\u001b[0m \u001b[0;32mimport\u001b[0m \u001b[0mglob\u001b[0m\u001b[0;34m\u001b[0m\u001b[0;34m\u001b[0m\u001b[0m\n\u001b[1;32m      4\u001b[0m \u001b[0;34m\u001b[0m\u001b[0m\n\u001b[1;32m      5\u001b[0m \u001b[0mWHITE\u001b[0m \u001b[0;34m=\u001b[0m \u001b[0;34m[\u001b[0m\u001b[0;36m255\u001b[0m\u001b[0;34m,\u001b[0m\u001b[0;36m255\u001b[0m\u001b[0;34m,\u001b[0m\u001b[0;36m255\u001b[0m\u001b[0;34m]\u001b[0m\u001b[0;34m\u001b[0m\u001b[0;34m\u001b[0m\u001b[0m\n",
      "\u001b[0;31mModuleNotFoundError\u001b[0m: No module named 'cv2'"
     ]
    }
   ],
   "source": [
    "import os\n",
    "import cv2\n",
    "from glob import glob\n",
    "\n",
    "WHITE = [255,255,255]\n",
    "BLACK = [0,0,0]\n",
    "def padding_img(img, hw_ratio=2.0):\n",
    "    \"\"\"\n",
    "    hwight:width = hw_ratio  pad後画像を返す\n",
    "    \"\"\"\n",
    "    size = img.shape\n",
    "    if (size[0] % 2 == 1):\n",
    "        img = img[:-1, :]\n",
    "    if (size[1] % 2 == 1):\n",
    "        img = img[:, :-1]\n",
    "    padded_image = img\n",
    "    if (size[0] > size[1]*hw_ratio):\n",
    "        pad_size = int((size[0] - size[1]*hw_ratio) / 2)\n",
    "        padded_image = cv2.copyMakeBorder(img, 0, 0, pad_size, pad_size, cv2.BORDER_CONSTANT, value=BLACK)\n",
    "    if (size[0] < size[1]*hw_ratio):\n",
    "        pad_size = int((size[1]*hw_ratio - size[0]) / 2)\n",
    "        padded_image = cv2.copyMakeBorder(img, pad_size, pad_size, 0, 0, cv2.BORDER_CONSTANT, value=BLACK)\n",
    "\n",
    "    return padded_image\n",
    "\n",
    "def padding_imgs(input_dir, hw_ratio=2.0, output_dir=None):\n",
    "    image_paths = glob(os.path.join(input_dir, \"*\"))    # ここjpeg以外でも大丈夫なように\n",
    "    if (output_dir==None):\n",
    "        output_dir = input_dir\n",
    "    for image_path in image_paths:\n",
    "#         print(image_path)\n",
    "        img = cv2.imread(image_path)\n",
    "        padded_image = padding_img(img, hw_ratio)\n",
    "        filename = os.path.basename(image_path)\n",
    "        output_path = os.path.join(output_dir, filename)\n",
    "#         print(output_path)\n",
    "        cv2.imwrite(output_path, padded_image)"
   ]
  },
  {
   "cell_type": "code",
   "execution_count": null,
   "metadata": {},
   "outputs": [],
   "source": [
    "images_dir = \"/home/liquid/src/Person_reID_baseline_pytorch/data/test0/\"\n",
    "output_dir =  \"/Users/ogura/Downloads/skinhead_test/padded/\"\n"
   ]
  }
 ],
 "metadata": {
  "kernelspec": {
   "display_name": "Python 3",
   "language": "python",
   "name": "python3"
  },
  "language_info": {
   "codemirror_mode": {
    "name": "ipython",
    "version": 3
   },
   "file_extension": ".py",
   "mimetype": "text/x-python",
   "name": "python",
   "nbconvert_exporter": "python",
   "pygments_lexer": "ipython3",
   "version": "3.7.3"
  }
 },
 "nbformat": 4,
 "nbformat_minor": 4
}
